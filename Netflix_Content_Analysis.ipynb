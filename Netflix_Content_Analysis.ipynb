{
  "nbformat": 4,
  "nbformat_minor": 0,
  "metadata": {
    "colab": {
      "provenance": [],
      "authorship_tag": "ABX9TyNachHZeTgt87CBA4f15l9B",
      "include_colab_link": true
    },
    "kernelspec": {
      "name": "python3",
      "display_name": "Python 3"
    },
    "language_info": {
      "name": "python"
    }
  },
  "cells": [
    {
      "cell_type": "markdown",
      "metadata": {
        "id": "view-in-github",
        "colab_type": "text"
      },
      "source": [
        "<a href=\"https://colab.research.google.com/github/Divyanshupatil/Netflix_Content_Analysis/blob/main/Netflix_Content_Analysis.ipynb\" target=\"_parent\"><img src=\"https://colab.research.google.com/assets/colab-badge.svg\" alt=\"Open In Colab\"/></a>"
      ]
    },
    {
      "cell_type": "markdown",
      "source": [
        "# Data Loading"
      ],
      "metadata": {
        "id": "h2msfN4ZU6A9"
      }
    },
    {
      "cell_type": "code",
      "execution_count": null,
      "metadata": {
        "id": "Q17IdgnVKXMN",
        "colab": {
          "base_uri": "https://localhost:8080/"
        },
        "outputId": "a27a182b-b419-430d-edea-3fce468af134"
      },
      "outputs": [
        {
          "output_type": "stream",
          "name": "stdout",
          "text": [
            "  show_id     type                  title         director  \\\n",
            "0      s1    Movie   Dick Johnson Is Dead  Kirsten Johnson   \n",
            "1      s2  TV Show          Blood & Water              NaN   \n",
            "2      s3  TV Show              Ganglands  Julien Leclercq   \n",
            "3      s4  TV Show  Jailbirds New Orleans              NaN   \n",
            "4      s5  TV Show           Kota Factory              NaN   \n",
            "\n",
            "                                                cast        country  \\\n",
            "0                                                NaN  United States   \n",
            "1  Ama Qamata, Khosi Ngema, Gail Mabalane, Thaban...   South Africa   \n",
            "2  Sami Bouajila, Tracy Gotoas, Samuel Jouy, Nabi...            NaN   \n",
            "3                                                NaN            NaN   \n",
            "4  Mayur More, Jitendra Kumar, Ranjan Raj, Alam K...          India   \n",
            "\n",
            "           date_added  release_year rating   duration  \\\n",
            "0  September 25, 2021          2020  PG-13     90 min   \n",
            "1  September 24, 2021          2021  TV-MA  2 Seasons   \n",
            "2  September 24, 2021          2021  TV-MA   1 Season   \n",
            "3  September 24, 2021          2021  TV-MA   1 Season   \n",
            "4  September 24, 2021          2021  TV-MA  2 Seasons   \n",
            "\n",
            "                                           listed_in  \\\n",
            "0                                      Documentaries   \n",
            "1    International TV Shows, TV Dramas, TV Mysteries   \n",
            "2  Crime TV Shows, International TV Shows, TV Act...   \n",
            "3                             Docuseries, Reality TV   \n",
            "4  International TV Shows, Romantic TV Shows, TV ...   \n",
            "\n",
            "                                         description  \n",
            "0  As her father nears the end of his life, filmm...  \n",
            "1  After crossing paths at a party, a Cape Town t...  \n",
            "2  To protect his family from a powerful drug lor...  \n",
            "3  Feuds, flirtations and toilet talk go down amo...  \n",
            "4  In a city of coaching centers known to train I...  \n",
            "show_id            0\n",
            "type               0\n",
            "title              0\n",
            "director        2634\n",
            "cast             825\n",
            "country          831\n",
            "date_added        10\n",
            "release_year       0\n",
            "rating             4\n",
            "duration           3\n",
            "listed_in          0\n",
            "description        0\n",
            "dtype: int64\n"
          ]
        }
      ],
      "source": [
        "import pandas as pd\n",
        "\n",
        "# load the dataset\n",
        "df = pd.read_csv('netflix_titles.csv')\n",
        "\n",
        "#Display top 5 rows\n",
        "print(df.head(5))\n",
        "\n",
        "#check for missing values.\n",
        "print(df.isnull().sum())\n"
      ]
    },
    {
      "cell_type": "markdown",
      "source": [
        "# Data Cleaning"
      ],
      "metadata": {
        "id": "M6AMsovgVAEJ"
      }
    },
    {
      "cell_type": "code",
      "source": [
        "# Drop duplicates if any\n",
        "# Remove 'genres' column before dropping duplicates\n",
        "df.drop(columns=['genres'], inplace=True, errors='ignore')  # errors='ignore' handles if 'genres' column doesn't exist\n",
        "df.drop_duplicates(inplace = True)\n",
        "\n",
        "#Convert 'date_added' to datetime\n",
        "df['date_added'] = pd.to_datetime(df['date_added'], format = 'mixed')\n",
        "\n",
        "#Fill Null values in key text fields\n",
        "df['director'].fillna('Not Available', inplace=True)\n",
        "df['cast'].fillna('Not Available', inplace=True)\n",
        "df['country'].fillna('Unknown', inplace=True)\n",
        "\n",
        "#Split 'listed_in' into list of generes\n",
        "df['genres'] = df['listed_in'].apply(lambda x: x.split(', '))\n",
        "\n",
        "# Extract year from 'date_added'\n",
        "df['year_added'] = df['date_added'].dt.year\n",
        "\n"
      ],
      "metadata": {
        "id": "e1GJKaI0VdNF"
      },
      "execution_count": null,
      "outputs": []
    },
    {
      "cell_type": "markdown",
      "source": [
        "# Exploratory Data Analysis"
      ],
      "metadata": {
        "id": "lo3cvUrojbHf"
      }
    },
    {
      "cell_type": "code",
      "source": [
        "# How many movies vs TV Shows?\n",
        "print(df['type'].value_counts())\n",
        "\n",
        "# Top 10 countries producing content\n",
        "print(df['country'].value_counts().head(10))\n",
        "\n",
        "# Content added per year\n",
        "print(df['year_added'].value_counts().sort_index())\n",
        "\n",
        "#Most common genres\n",
        "from collections import Counter\n",
        "all_genres = sum(df['genres'],[])\n",
        "print(Counter(all_genres).most_common(10))\n"
      ],
      "metadata": {
        "id": "k32W34KlkF72"
      },
      "execution_count": null,
      "outputs": []
    },
    {
      "cell_type": "markdown",
      "source": [
        "# Save Clean File"
      ],
      "metadata": {
        "id": "S5tYBBln_f2y"
      }
    },
    {
      "cell_type": "code",
      "source": [
        "df.to_csv('netflix_titles_clean.csv', index=False)"
      ],
      "metadata": {
        "id": "eTRstNyo_mmd"
      },
      "execution_count": null,
      "outputs": []
    }
  ]
}